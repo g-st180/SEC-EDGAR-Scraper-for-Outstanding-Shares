{
 "cells": [
  {
   "cell_type": "code",
   "execution_count": null,
   "id": "e44ce014",
   "metadata": {},
   "outputs": [],
   "source": [
    "import requests\n",
    "from datetime import datetime\n",
    "from selenium import webdriver\n",
    "from selenium.webdriver.chrome.service import Service\n",
    "from selenium.webdriver.common.by import By\n",
    "from selenium.webdriver.chrome.options import Options\n",
    "from selenium.webdriver.support.ui import WebDriverWait\n",
    "from selenium.webdriver.support import expected_conditions as EC\n",
    "from webdriver_manager.chrome import ChromeDriverManager\n",
    "import time\n",
    "\n",
    "\n",
    "cookies = {\n",
    "'bm_mi': '',\n",
    "'ak_bmsc': '',\n",
    "'bm_sv': '',\n",
    "}"
   ]
  },
  {
   "cell_type": "code",
   "execution_count": 3,
   "id": "5d6c6543",
   "metadata": {},
   "outputs": [],
   "source": [
    "def get_cik(ticker):\n",
    "    headers = {\n",
    "        'accept-language': 'en-US,en;q=0.5',\n",
    "    #     'if-modified-since': 'Wed, 02 Apr 2025 20:59:16 GMT',\n",
    "        'user-agent': 'Mozilla/5.0 (Windows NT 10.0; Win64; x64) AppleWebKit/537.36 (KHTML, like Gecko) Chrome/134.0.0.0 Safari/537.36',\n",
    "    }\n",
    "\n",
    "    res = requests.get('https://www.sec.gov/files/company_tickers.json', cookies=cookies, headers=headers).json()\n",
    "\n",
    "    for k, v in res.items():\n",
    "        if v['ticker'].lower() == ticker.lower():\n",
    "            return str(v['cik_str']).zfill(10)\n",
    "    return None\n"
   ]
  },
  {
   "cell_type": "code",
   "execution_count": 4,
   "id": "a116e7f0",
   "metadata": {},
   "outputs": [],
   "source": [
    "def get_filing_url(cik, form_type, before_date):\n",
    "    headers = {\n",
    "    'user-agent': 'Mozilla/5.0 (Windows NT 10.0; Win64; x64) AppleWebKit/537.36 (KHTML, like Gecko) Chrome/134.0.0.0 Safari/537.36',\n",
    "    }\n",
    "\n",
    "    res = requests.get(f'https://data.sec.gov/submissions/CIK{cik}.json', cookies=cookies, headers=headers).json()\n",
    "\n",
    "    \n",
    "    filings = res.get(\"filings\", {}).get(\"recent\", {})\n",
    "    dates = filings.get(\"filingDate\", [])\n",
    "    forms = filings.get(\"form\", [])\n",
    "    accession_nums = filings.get(\"accessionNumber\", [])\n",
    "\n",
    "    before = datetime.strptime(before_date, \"%Y-%m-%d\")\n",
    "    for form, date, acc_num in zip(forms, dates, accession_nums):\n",
    "        if form == form_type:\n",
    "            filing_date = datetime.strptime(date, \"%Y-%m-%d\")\n",
    "            if filing_date <= before:\n",
    "                acc_num_fmt = acc_num.replace(\"-\", \"\")\n",
    "                doc_url = f\"https://www.sec.gov/Archives/edgar/data/0000{int(cik)}/{acc_num_fmt}/{acc_num}-index.htm\"\n",
    "                return doc_url\n",
    "    return None\n"
   ]
  },
  {
   "cell_type": "code",
   "execution_count": null,
   "id": "3e0fca90",
   "metadata": {},
   "outputs": [],
   "source": [
    "def extract_shares_outstanding_from_url(index_url):\n",
    "    options = Options()\n",
    "    options.add_argument(\"--user-agent=Mozilla/5.0 (Windows NT 10.0; Win64; x64) AppleWebKit/537.36 (KHTML, like Gecko) Chrome/122.0.0.0 Safari/537.36\")\n",
    "    options.add_argument(\"--headless\")\n",
    "    service = Service(ChromeDriverManager().install())\n",
    "    driver = webdriver.Chrome(service=service, options=options)\n",
    "    try:\n",
    "        driver.get(index_url)\n",
    "\n",
    "        button = WebDriverWait(driver, 15).until(\n",
    "            EC.element_to_be_clickable((By.XPATH, '//a//button[contains(text(), \"Interactive\")]'))\n",
    "        )\n",
    "        button.click()\n",
    "\n",
    "        WebDriverWait(driver, 15).until(EC.presence_of_element_located((By.XPATH, '//table')))\n",
    "\n",
    "        time.sleep(1.5)\n",
    "\n",
    "        rows = driver.find_elements(By.XPATH, '//table//tr')  \n",
    "        for row in rows:  \n",
    "            try:  \n",
    "                label_cell = row.find_element(By.XPATH, './td[1]')  \n",
    "                label_text = label_cell.text.strip().lower()  \n",
    "                if \"common stock\" in label_text and \"outstanding\" in label_text:  \n",
    "                    value_cell = row.find_element(By.XPATH, './td[3]')  \n",
    "                    print(\"Outstanding Shares:\", value_cell.text.strip())  \n",
    "                    return value_cell.text.strip()  \n",
    "                    \n",
    "            except:  \n",
    "                continue  \n",
    "    except:\n",
    "        pass\n",
    "\n",
    "    finally:\n",
    "        driver.quit()\n",
    "\n",
    "# extract_shares_outstanding_from_url('https://www.sec.gov/Archives/edgar/data/320193/000119312515023697/0001193125-15-023697-index.htm')"
   ]
  },
  {
   "cell_type": "code",
   "execution_count": 6,
   "id": "c15e97d8",
   "metadata": {},
   "outputs": [],
   "source": [
    "def process_ticker(ticker, date=\"2023-12-31\"):\n",
    "    cik = get_cik(ticker)\n",
    "    if not cik:\n",
    "        return ticker, None, \"CIK not found\"\n",
    "    print(cik)\n",
    "    \n",
    "    url = get_filing_url(cik, \"10-Q\", date) or get_filing_url(cik, \"10-K\", date)\n",
    "    if not url:\n",
    "        return ticker, None, \"Filing not found\"\n",
    "    print(url)\n",
    "    \n",
    "    shares = extract_shares_outstanding_from_url(url)\n",
    "    return ticker, shares, \"Success\" if shares else \"Shares not found\"\n"
   ]
  },
  {
   "cell_type": "code",
   "execution_count": null,
   "id": "140b5710",
   "metadata": {},
   "outputs": [],
   "source": [
    "tickers = [\"TSLA\"] \n",
    "results = []\n",
    "\n",
    "for ticker in tickers:\n",
    "    ticker, shares, status = process_ticker(ticker, \"2020-12-31\")\n",
    "    results.append((ticker, shares, status))\n",
    "    print(ticker, \"=>\", status)"
   ]
  },
  {
   "cell_type": "code",
   "execution_count": null,
   "id": "4dec2d10",
   "metadata": {},
   "outputs": [
    {
     "name": "stderr",
     "output_type": "stream",
     "text": [
      "2025-04-06 15:30:14,970 - Skipped AAL for 2020-03-31: Shares already present = 438,057,971\n"
     ]
    },
    {
     "name": "stdout",
     "output_type": "stream",
     "text": [
      "AAL => Skipped (Shares already present: 438,057,971)\n"
     ]
    },
    {
     "name": "stderr",
     "output_type": "stream",
     "text": [
      "C:\\Users\\Garvit\\AppData\\Local\\Temp\\ipykernel_30868\\1471296940.py:30: UserWarning: Pandas requires version '3.0.5' or newer of 'xlsxwriter' (version '3.0.3' currently installed).\n",
      "  df.to_excel(EXCEL_FILE, index=False)\n",
      "2025-04-06 15:30:15,964 - Updated AAL for 2020-03-31: Shares = 212,757,530, Status = Success\n",
      "2025-04-06 15:30:15,966 - Skipped AYTU for 2020-04-01: Shares already present = 23,018,052\n"
     ]
    },
    {
     "name": "stdout",
     "output_type": "stream",
     "text": [
      "AYTU => Skipped (Shares already present: 23,018,052)\n"
     ]
    },
    {
     "name": "stderr",
     "output_type": "stream",
     "text": [
      "2025-04-06 15:30:16,961 - Updated AYTU for 2020-04-01: Shares = 212,757,530, Status = Success\n",
      "2025-04-06 15:30:16,963 - Skipped IFRX for 2020-04-01: Shares already present = nan\n"
     ]
    },
    {
     "name": "stdout",
     "output_type": "stream",
     "text": [
      "IFRX => Skipped (Shares already present: nan)\n"
     ]
    },
    {
     "name": "stderr",
     "output_type": "stream",
     "text": [
      "2025-04-06 15:30:18,005 - Updated IFRX for 2020-04-01: Shares = 212,757,530, Status = Success\n",
      "2025-04-06 15:30:18,006 - Skipped BMRA for 2020-04-02: Shares already present = 9,889,875\n"
     ]
    },
    {
     "name": "stdout",
     "output_type": "stream",
     "text": [
      "BMRA => Skipped (Shares already present: 9,889,875)\n"
     ]
    },
    {
     "name": "stderr",
     "output_type": "stream",
     "text": [
      "2025-04-06 15:30:19,260 - Updated BMRA for 2020-04-02: Shares = 212,757,530, Status = Success\n",
      "2025-04-06 15:30:19,262 - Skipped EQNR for 2020-04-02: Shares already present = nan\n"
     ]
    },
    {
     "name": "stdout",
     "output_type": "stream",
     "text": [
      "EQNR => Skipped (Shares already present: nan)\n"
     ]
    },
    {
     "name": "stderr",
     "output_type": "stream",
     "text": [
      "2025-04-06 15:30:20,246 - Updated EQNR for 2020-04-02: Shares = 212,757,530, Status = Success\n",
      "2025-04-06 15:30:20,248 - Skipped BP for 2020-04-02: Shares already present = nan\n"
     ]
    },
    {
     "name": "stdout",
     "output_type": "stream",
     "text": [
      "BP => Skipped (Shares already present: nan)\n"
     ]
    },
    {
     "name": "stderr",
     "output_type": "stream",
     "text": [
      "2025-04-06 15:30:21,266 - Updated BP for 2020-04-02: Shares = 212,757,530, Status = Success\n",
      "2025-04-06 15:30:21,267 - Skipped ECOR for 2020-04-03: Shares already present = 29,514,434\n"
     ]
    },
    {
     "name": "stdout",
     "output_type": "stream",
     "text": [
      "ECOR => Skipped (Shares already present: 29,514,434)\n"
     ]
    },
    {
     "name": "stderr",
     "output_type": "stream",
     "text": [
      "2025-04-06 15:30:22,194 - Updated ECOR for 2020-04-03: Shares = 212,757,530, Status = Success\n",
      "2025-04-06 15:30:22,196 - Skipped FANG for 2020-04-03: Shares already present = 160,444,608\n"
     ]
    },
    {
     "name": "stdout",
     "output_type": "stream",
     "text": [
      "FANG => Skipped (Shares already present: 160,444,608)\n"
     ]
    },
    {
     "name": "stderr",
     "output_type": "stream",
     "text": [
      "2025-04-06 15:30:23,176 - Updated FANG for 2020-04-03: Shares = 212,757,530, Status = Success\n",
      "2025-04-06 15:30:23,178 - Skipped OXY for 2020-04-03: Shares already present = nan\n"
     ]
    },
    {
     "name": "stdout",
     "output_type": "stream",
     "text": [
      "OXY => Skipped (Shares already present: nan)\n"
     ]
    },
    {
     "name": "stderr",
     "output_type": "stream",
     "text": [
      "2025-04-06 15:30:24,104 - Updated OXY for 2020-04-03: Shares = 212,757,530, Status = Success\n",
      "2025-04-06 15:30:24,109 - Skipped ET for 2020-04-03: Shares already present = 2,626,996,383\n"
     ]
    },
    {
     "name": "stdout",
     "output_type": "stream",
     "text": [
      "ET => Skipped (Shares already present: 2,626,996,383)\n"
     ]
    },
    {
     "name": "stderr",
     "output_type": "stream",
     "text": [
      "2025-04-06 15:30:25,158 - Updated ET for 2020-04-03: Shares = 212,757,530, Status = Success\n",
      "2025-04-06 15:30:25,159 - Skipped VIR for 2020-04-06: Shares already present = 109,678,822\n"
     ]
    },
    {
     "name": "stdout",
     "output_type": "stream",
     "text": [
      "VIR => Skipped (Shares already present: 109,678,822)\n"
     ]
    },
    {
     "name": "stderr",
     "output_type": "stream",
     "text": [
      "2025-04-06 15:30:26,182 - Updated VIR for 2020-04-06: Shares = 212,757,530, Status = Success\n",
      "2025-04-06 15:30:26,184 - Skipped MA for 2020-04-06: Shares already present = 997,449,179\n"
     ]
    },
    {
     "name": "stdout",
     "output_type": "stream",
     "text": [
      "MA => Skipped (Shares already present: 997,449,179)\n"
     ]
    },
    {
     "name": "stderr",
     "output_type": "stream",
     "text": [
      "2025-04-06 15:30:27,169 - Updated MA for 2020-04-06: Shares = 212,757,530, Status = Success\n",
      "2025-04-06 15:30:27,171 - Skipped INO for 2020-04-06: Shares already present = 100,010,328\n"
     ]
    },
    {
     "name": "stdout",
     "output_type": "stream",
     "text": [
      "INO => Skipped (Shares already present: 100,010,328)\n"
     ]
    },
    {
     "name": "stderr",
     "output_type": "stream",
     "text": [
      "2025-04-06 15:30:28,097 - Updated INO for 2020-04-06: Shares = 212,757,530, Status = Success\n",
      "2025-04-06 15:30:28,099 - Skipped CODX for 2020-04-06: Shares already present = 17,339,922\n"
     ]
    },
    {
     "name": "stdout",
     "output_type": "stream",
     "text": [
      "CODX => Skipped (Shares already present: 17,339,922)\n"
     ]
    },
    {
     "name": "stderr",
     "output_type": "stream",
     "text": [
      "2025-04-06 15:30:29,140 - Updated CODX for 2020-04-06: Shares = 212,757,530, Status = Success\n",
      "2025-04-06 15:30:29,141 - Skipped W for 2020-04-06: Shares already present = 65,758,215\n"
     ]
    },
    {
     "name": "stdout",
     "output_type": "stream",
     "text": [
      "W => Skipped (Shares already present: 65,758,215)\n"
     ]
    },
    {
     "name": "stderr",
     "output_type": "stream",
     "text": [
      "2025-04-06 15:30:30,214 - Updated W for 2020-04-06: Shares = 212,757,530, Status = Success\n",
      "2025-04-06 15:30:30,215 - Skipped APA for 2020-04-07: Shares already present = nan\n"
     ]
    },
    {
     "name": "stdout",
     "output_type": "stream",
     "text": [
      "APA => Skipped (Shares already present: nan)\n"
     ]
    },
    {
     "name": "stderr",
     "output_type": "stream",
     "text": [
      "2025-04-06 15:30:31,020 - Updated APA for 2020-04-07: Shares = 212,757,530, Status = Success\n",
      "2025-04-06 15:30:31,021 - Skipped GM for 2020-04-07: Shares already present = 1,428,784,056\n"
     ]
    },
    {
     "name": "stdout",
     "output_type": "stream",
     "text": [
      "GM => Skipped (Shares already present: 1,428,784,056)\n"
     ]
    },
    {
     "name": "stderr",
     "output_type": "stream",
     "text": [
      "2025-04-06 15:30:32,078 - Updated GM for 2020-04-07: Shares = 212,757,530, Status = Success\n",
      "2025-04-06 15:30:32,080 - Skipped W for 2020-04-07: Shares already present = 65,758,215\n"
     ]
    },
    {
     "name": "stdout",
     "output_type": "stream",
     "text": [
      "W => Skipped (Shares already present: 65,758,215)\n"
     ]
    },
    {
     "name": "stderr",
     "output_type": "stream",
     "text": [
      "2025-04-06 15:30:33,116 - Updated W for 2020-04-07: Shares = 212,757,530, Status = Success\n",
      "2025-04-06 15:30:33,117 - Skipped AXP for 2020-04-07: Shares already present = 818,270,818\n"
     ]
    },
    {
     "name": "stdout",
     "output_type": "stream",
     "text": [
      "AXP => Skipped (Shares already present: 818,270,818)\n"
     ]
    },
    {
     "name": "stderr",
     "output_type": "stream",
     "text": [
      "2025-04-06 15:30:34,302 - Updated AXP for 2020-04-07: Shares = 212,757,530, Status = Success\n",
      "2025-04-06 15:30:34,303 - Skipped CMG for 2020-04-07: Shares already present = 27,795,204\n"
     ]
    },
    {
     "name": "stdout",
     "output_type": "stream",
     "text": [
      "CMG => Skipped (Shares already present: 27,795,204)\n"
     ]
    },
    {
     "name": "stderr",
     "output_type": "stream",
     "text": [
      "2025-04-06 15:30:35,214 - Updated CMG for 2020-04-07: Shares = 212,757,530, Status = Success\n",
      "2025-04-06 15:30:35,215 - Skipped NIO for 2020-04-07: Shares already present = nan\n"
     ]
    },
    {
     "name": "stdout",
     "output_type": "stream",
     "text": [
      "NIO => Skipped (Shares already present: nan)\n"
     ]
    },
    {
     "name": "stderr",
     "output_type": "stream",
     "text": [
      "2025-04-06 15:30:36,136 - Updated NIO for 2020-04-07: Shares = 212,757,530, Status = Success\n",
      "2025-04-06 15:30:36,137 - Skipped SPCE for 2020-04-07: Shares already present = 82,478,822\n"
     ]
    },
    {
     "name": "stdout",
     "output_type": "stream",
     "text": [
      "SPCE => Skipped (Shares already present: 82,478,822)\n"
     ]
    },
    {
     "name": "stderr",
     "output_type": "stream",
     "text": [
      "2025-04-06 15:30:37,255 - Updated SPCE for 2020-04-07: Shares = 212,757,530, Status = Success\n",
      "2025-04-06 15:30:37,256 - Skipped MAR for 2020-04-07: Shares already present = 326,937,219\n"
     ]
    },
    {
     "name": "stdout",
     "output_type": "stream",
     "text": [
      "MAR => Skipped (Shares already present: 326,937,219)\n"
     ]
    },
    {
     "name": "stderr",
     "output_type": "stream",
     "text": [
      "2025-04-06 15:30:38,153 - Updated MAR for 2020-04-07: Shares = 212,757,530, Status = Success\n",
      "2025-04-06 15:30:38,154 - Skipped TOPS for 2020-04-07: Shares already present = nan\n"
     ]
    },
    {
     "name": "stdout",
     "output_type": "stream",
     "text": [
      "TOPS => Skipped (Shares already present: nan)\n"
     ]
    },
    {
     "name": "stderr",
     "output_type": "stream",
     "text": [
      "2025-04-06 15:30:39,344 - Updated TOPS for 2020-04-07: Shares = 212,757,530, Status = Success\n",
      "2025-04-06 15:30:39,345 - Skipped TTD for 2020-04-07: Shares already present = 39,834,865\n"
     ]
    },
    {
     "name": "stdout",
     "output_type": "stream",
     "text": [
      "TTD => Skipped (Shares already present: 39,834,865)\n"
     ]
    },
    {
     "name": "stderr",
     "output_type": "stream",
     "text": [
      "2025-04-06 15:30:40,686 - Updated TTD for 2020-04-07: Shares = 212,757,530, Status = Success\n",
      "2025-04-06 15:30:40,687 - Skipped HD for 2020-04-07: Shares already present = 1,090,831,020\n"
     ]
    },
    {
     "name": "stdout",
     "output_type": "stream",
     "text": [
      "HD => Skipped (Shares already present: 1,090,831,020)\n"
     ]
    },
    {
     "name": "stderr",
     "output_type": "stream",
     "text": [
      "2025-04-06 15:30:41,517 - Updated HD for 2020-04-07: Shares = 212,757,530, Status = Success\n",
      "2025-04-06 15:30:41,518 - Skipped F for 2020-04-07: Shares already present = nan\n"
     ]
    },
    {
     "name": "stdout",
     "output_type": "stream",
     "text": [
      "F => Skipped (Shares already present: nan)\n"
     ]
    },
    {
     "name": "stderr",
     "output_type": "stream",
     "text": [
      "2025-04-06 15:30:42,771 - Updated F for 2020-04-07: Shares = 212,757,530, Status = Success\n",
      "2025-04-06 15:30:42,773 - Skipped SBUX for 2020-04-07: Shares already present = 1,173.7\n"
     ]
    },
    {
     "name": "stdout",
     "output_type": "stream",
     "text": [
      "SBUX => Skipped (Shares already present: 1,173.7)\n"
     ]
    },
    {
     "name": "stderr",
     "output_type": "stream",
     "text": [
      "2025-04-06 15:30:43,661 - Updated SBUX for 2020-04-07: Shares = 212,757,530, Status = Success\n",
      "2025-04-06 15:30:43,662 - Skipped WYNN for 2020-04-07: Shares already present = 107,354,606\n"
     ]
    },
    {
     "name": "stdout",
     "output_type": "stream",
     "text": [
      "WYNN => Skipped (Shares already present: 107,354,606)\n"
     ]
    },
    {
     "name": "stderr",
     "output_type": "stream",
     "text": [
      "2025-04-06 15:30:44,821 - Updated WYNN for 2020-04-07: Shares = 212,757,530, Status = Success\n",
      "2025-04-06 15:30:44,822 - Skipped BYND for 2020-04-07: Shares already present = 61,521,912\n"
     ]
    },
    {
     "name": "stdout",
     "output_type": "stream",
     "text": [
      "BYND => Skipped (Shares already present: 61,521,912)\n"
     ]
    },
    {
     "name": "stderr",
     "output_type": "stream",
     "text": [
      "2025-04-06 15:30:45,589 - Updated BYND for 2020-04-07: Shares = 212,757,530, Status = Success\n",
      "2025-04-06 15:30:45,590 - Skipped OXY for 2020-04-07: Shares already present = nan\n"
     ]
    },
    {
     "name": "stdout",
     "output_type": "stream",
     "text": [
      "OXY => Skipped (Shares already present: nan)\n"
     ]
    },
    {
     "name": "stderr",
     "output_type": "stream",
     "text": [
      "2025-04-06 15:30:46,956 - Updated OXY for 2020-04-07: Shares = 212,757,530, Status = Success\n",
      "2025-04-06 15:30:46,957 - Skipped UBER for 2020-04-07: Shares already present = 1,705,815,070\n"
     ]
    },
    {
     "name": "stdout",
     "output_type": "stream",
     "text": [
      "UBER => Skipped (Shares already present: 1,705,815,070)\n"
     ]
    },
    {
     "name": "stderr",
     "output_type": "stream",
     "text": [
      "2025-04-06 15:30:47,827 - Updated UBER for 2020-04-07: Shares = 212,757,530, Status = Success\n",
      "2025-04-06 15:30:47,829 - Skipped WFC for 2020-04-07: Shares already present = nan\n"
     ]
    },
    {
     "name": "stdout",
     "output_type": "stream",
     "text": [
      "WFC => Skipped (Shares already present: nan)\n"
     ]
    },
    {
     "name": "stderr",
     "output_type": "stream",
     "text": [
      "2025-04-06 15:30:49,181 - Updated WFC for 2020-04-07: Shares = 212,757,530, Status = Success\n",
      "2025-04-06 15:30:49,182 - Skipped MGM for 2020-04-07: Shares already present = 514,984,359\n"
     ]
    },
    {
     "name": "stdout",
     "output_type": "stream",
     "text": [
      "MGM => Skipped (Shares already present: 514,984,359)\n"
     ]
    },
    {
     "name": "stderr",
     "output_type": "stream",
     "text": [
      "2025-04-06 15:30:50,122 - Updated MGM for 2020-04-07: Shares = 212,757,530, Status = Success\n",
      "2025-04-06 15:30:50,123 - Skipped GE for 2020-04-07: Shares already present = nan\n"
     ]
    },
    {
     "name": "stdout",
     "output_type": "stream",
     "text": [
      "GE => Skipped (Shares already present: nan)\n"
     ]
    },
    {
     "name": "stderr",
     "output_type": "stream",
     "text": [
      "2025-04-06 15:30:51,329 - Updated GE for 2020-04-07: Shares = 212,757,530, Status = Success\n",
      "2025-04-06 15:30:51,330 - Skipped C for 2020-04-07: Shares already present = nan\n"
     ]
    },
    {
     "name": "stdout",
     "output_type": "stream",
     "text": [
      "C => Skipped (Shares already present: nan)\n"
     ]
    },
    {
     "name": "stderr",
     "output_type": "stream",
     "text": [
      "2025-04-06 15:30:52,595 - Updated C for 2020-04-07: Shares = 212,757,530, Status = Success\n",
      "2025-04-06 15:30:52,597 - Skipped NCLH for 2020-04-07: Shares already present = 212,757,530\n"
     ]
    },
    {
     "name": "stdout",
     "output_type": "stream",
     "text": [
      "NCLH => Skipped (Shares already present: 212,757,530)\n"
     ]
    },
    {
     "name": "stderr",
     "output_type": "stream",
     "text": [
      "2025-04-06 15:30:53,460 - Updated NCLH for 2020-04-07: Shares = 212,757,530, Status = Success\n"
     ]
    },
    {
     "name": "stdout",
     "output_type": "stream",
     "text": [
      "0001744489\n"
     ]
    },
    {
     "name": "stderr",
     "output_type": "stream",
     "text": [
      "2025-04-06 15:30:57,745 - ====== WebDriver manager ======\n"
     ]
    },
    {
     "name": "stdout",
     "output_type": "stream",
     "text": [
      "https://www.sec.gov/Archives/edgar/data/00001744489/000174448920000046/0001744489-20-000046-index.htm\n"
     ]
    },
    {
     "name": "stderr",
     "output_type": "stream",
     "text": [
      "2025-04-06 15:31:00,060 - Get LATEST chromedriver version for google-chrome\n",
      "2025-04-06 15:31:00,437 - Get LATEST chromedriver version for google-chrome\n",
      "2025-04-06 15:31:00,624 - Driver [C:\\Users\\Garvit\\.wdm\\drivers\\chromedriver\\win64\\134.0.6998.165\\chromedriver-win32/chromedriver.exe] found in cache\n"
     ]
    },
    {
     "name": "stdout",
     "output_type": "stream",
     "text": [
      "Outstanding Shares: 1,805,438,643\n"
     ]
    },
    {
     "name": "stderr",
     "output_type": "stream",
     "text": [
      "2025-04-06 15:31:47,187 - Updated DIS for 2020-04-07: Shares = 1,805,438,643, Status = Success\n"
     ]
    },
    {
     "name": "stdout",
     "output_type": "stream",
     "text": [
      "DIS => Success\n"
     ]
    },
    {
     "name": "stderr",
     "output_type": "stream",
     "text": [
      "2025-04-06 15:31:48,099 - Updated DIS for 2020-04-07: Shares = 1,805,438,643, Status = Success\n"
     ]
    },
    {
     "name": "stdout",
     "output_type": "stream",
     "text": [
      "0000070858\n"
     ]
    },
    {
     "name": "stderr",
     "output_type": "stream",
     "text": [
      "2025-04-06 15:31:50,765 - Updated BAC for 2020-04-07: Shares = None, Status = Filing not found\n"
     ]
    },
    {
     "name": "stdout",
     "output_type": "stream",
     "text": [
      "BAC => Filing not found\n"
     ]
    },
    {
     "name": "stderr",
     "output_type": "stream",
     "text": [
      "2025-04-06 15:31:51,852 - Updated BAC for 2020-04-07: Shares = None, Status = Filing not found\n"
     ]
    },
    {
     "name": "stdout",
     "output_type": "stream",
     "text": [
      "0001141391\n"
     ]
    },
    {
     "name": "stderr",
     "output_type": "stream",
     "text": [
      "2025-04-06 15:31:52,617 - ====== WebDriver manager ======\n"
     ]
    },
    {
     "name": "stdout",
     "output_type": "stream",
     "text": [
      "https://www.sec.gov/Archives/edgar/data/00001141391/000114139119000150/0001141391-19-000150-index.htm\n"
     ]
    },
    {
     "name": "stderr",
     "output_type": "stream",
     "text": [
      "2025-04-06 15:31:55,281 - Get LATEST chromedriver version for google-chrome\n",
      "2025-04-06 15:31:55,431 - Get LATEST chromedriver version for google-chrome\n",
      "2025-04-06 15:31:55,579 - Driver [C:\\Users\\Garvit\\.wdm\\drivers\\chromedriver\\win64\\134.0.6998.165\\chromedriver-win32/chromedriver.exe] found in cache\n"
     ]
    },
    {
     "name": "stdout",
     "output_type": "stream",
     "text": [
      "Outstanding Shares: 997,449,179\n"
     ]
    },
    {
     "name": "stderr",
     "output_type": "stream",
     "text": [
      "2025-04-06 15:32:41,157 - Updated MA for 2020-04-07: Shares = 997,449,179, Status = Success\n"
     ]
    },
    {
     "name": "stdout",
     "output_type": "stream",
     "text": [
      "MA => Success\n"
     ]
    },
    {
     "name": "stderr",
     "output_type": "stream",
     "text": [
      "2025-04-06 15:32:42,515 - Updated MA for 2020-04-07: Shares = 997,449,179, Status = Success\n"
     ]
    },
    {
     "name": "stdout",
     "output_type": "stream",
     "text": [
      "0000034088\n"
     ]
    },
    {
     "name": "stderr",
     "output_type": "stream",
     "text": [
      "2025-04-06 15:32:44,784 - ====== WebDriver manager ======\n"
     ]
    },
    {
     "name": "stdout",
     "output_type": "stream",
     "text": [
      "https://www.sec.gov/Archives/edgar/data/000034088/000003408819000062/0000034088-19-000062-index.htm\n"
     ]
    },
    {
     "name": "stderr",
     "output_type": "stream",
     "text": [
      "2025-04-06 15:32:46,981 - Get LATEST chromedriver version for google-chrome\n",
      "2025-04-06 15:32:47,142 - Get LATEST chromedriver version for google-chrome\n",
      "2025-04-06 15:32:47,355 - Driver [C:\\Users\\Garvit\\.wdm\\drivers\\chromedriver\\win64\\134.0.6998.165\\chromedriver-win32/chromedriver.exe] found in cache\n",
      "2025-04-06 15:33:40,499 - Updated XOM for 2020-04-07: Shares = None, Status = Shares not found\n"
     ]
    },
    {
     "name": "stdout",
     "output_type": "stream",
     "text": [
      "XOM => Shares not found\n"
     ]
    },
    {
     "name": "stderr",
     "output_type": "stream",
     "text": [
      "2025-04-06 15:33:41,283 - Updated XOM for 2020-04-07: Shares = None, Status = Shares not found\n"
     ]
    },
    {
     "name": "stdout",
     "output_type": "stream",
     "text": [
      "0000884887\n"
     ]
    },
    {
     "name": "stderr",
     "output_type": "stream",
     "text": [
      "2025-04-06 15:33:42,285 - ====== WebDriver manager ======\n"
     ]
    },
    {
     "name": "stdout",
     "output_type": "stream",
     "text": [
      "https://www.sec.gov/Archives/edgar/data/0000884887/000088488719000046/0000884887-19-000046-index.htm\n"
     ]
    },
    {
     "name": "stderr",
     "output_type": "stream",
     "text": [
      "2025-04-06 15:33:44,346 - Get LATEST chromedriver version for google-chrome\n",
      "2025-04-06 15:33:44,503 - Get LATEST chromedriver version for google-chrome\n",
      "2025-04-06 15:33:44,665 - Driver [C:\\Users\\Garvit\\.wdm\\drivers\\chromedriver\\win64\\134.0.6998.165\\chromedriver-win32/chromedriver.exe] found in cache\n"
     ]
    },
    {
     "name": "stdout",
     "output_type": "stream",
     "text": [
      "Outstanding Shares: 209,631,168\n"
     ]
    },
    {
     "name": "stderr",
     "output_type": "stream",
     "text": [
      "2025-04-06 15:34:30,816 - Updated RCL for 2020-04-07: Shares = 209,631,168, Status = Success\n"
     ]
    },
    {
     "name": "stdout",
     "output_type": "stream",
     "text": [
      "RCL => Success\n"
     ]
    },
    {
     "name": "stderr",
     "output_type": "stream",
     "text": [
      "2025-04-06 15:34:31,725 - Updated RCL for 2020-04-07: Shares = 209,631,168, Status = Success\n"
     ]
    },
    {
     "name": "stdout",
     "output_type": "stream",
     "text": [
      "0000019617\n"
     ]
    },
    {
     "name": "stderr",
     "output_type": "stream",
     "text": [
      "2025-04-06 15:34:34,385 - Updated JPM for 2020-04-07: Shares = None, Status = Filing not found\n"
     ]
    },
    {
     "name": "stdout",
     "output_type": "stream",
     "text": [
      "JPM => Filing not found\n"
     ]
    },
    {
     "name": "stderr",
     "output_type": "stream",
     "text": [
      "2025-04-06 15:34:35,369 - Updated JPM for 2020-04-07: Shares = None, Status = Filing not found\n"
     ]
    },
    {
     "name": "stdout",
     "output_type": "stream",
     "text": [
      "0000815097\n"
     ]
    },
    {
     "name": "stderr",
     "output_type": "stream",
     "text": [
      "2025-04-06 15:34:36,149 - ====== WebDriver manager ======\n"
     ]
    },
    {
     "name": "stdout",
     "output_type": "stream",
     "text": [
      "https://www.sec.gov/Archives/edgar/data/0000815097/000081509720000030/0000815097-20-000030-index.htm\n"
     ]
    },
    {
     "name": "stderr",
     "output_type": "stream",
     "text": [
      "2025-04-06 15:34:38,899 - Get LATEST chromedriver version for google-chrome\n",
      "2025-04-06 15:34:39,262 - Get LATEST chromedriver version for google-chrome\n",
      "2025-04-06 15:34:39,430 - Driver [C:\\Users\\Garvit\\.wdm\\drivers\\chromedriver\\win64\\134.0.6998.165\\chromedriver-win32/chromedriver.exe] found in cache\n"
     ]
    },
    {
     "name": "stdout",
     "output_type": "stream",
     "text": [
      "Outstanding Shares: 527,817,680\n"
     ]
    },
    {
     "name": "stderr",
     "output_type": "stream",
     "text": [
      "2025-04-06 15:35:25,950 - Updated CCL for 2020-04-07: Shares = 527,817,680, Status = Success\n"
     ]
    },
    {
     "name": "stdout",
     "output_type": "stream",
     "text": [
      "CCL => Success\n"
     ]
    },
    {
     "name": "stderr",
     "output_type": "stream",
     "text": [
      "2025-04-06 15:35:26,588 - Updated CCL for 2020-04-07: Shares = 527,817,680, Status = Success\n"
     ]
    },
    {
     "name": "stdout",
     "output_type": "stream",
     "text": [
      "0001318605\n"
     ]
    },
    {
     "name": "stderr",
     "output_type": "stream",
     "text": [
      "2025-04-06 15:35:28,004 - ====== WebDriver manager ======\n"
     ]
    },
    {
     "name": "stdout",
     "output_type": "stream",
     "text": [
      "https://www.sec.gov/Archives/edgar/data/00001318605/000156459019038256/0001564590-19-038256-index.htm\n"
     ]
    },
    {
     "name": "stderr",
     "output_type": "stream",
     "text": [
      "2025-04-06 15:35:29,567 - Get LATEST chromedriver version for google-chrome\n",
      "2025-04-06 15:35:29,825 - Get LATEST chromedriver version for google-chrome\n",
      "2025-04-06 15:35:30,021 - Driver [C:\\Users\\Garvit\\.wdm\\drivers\\chromedriver\\win64\\134.0.6998.165\\chromedriver-win32/chromedriver.exe] found in cache\n"
     ]
    },
    {
     "name": "stdout",
     "output_type": "stream",
     "text": [
      "Outstanding Shares: 180,244,858\n"
     ]
    },
    {
     "name": "stderr",
     "output_type": "stream",
     "text": [
      "2025-04-06 15:36:30,614 - Updated TSLA for 2020-04-07: Shares = 180,244,858, Status = Success\n"
     ]
    },
    {
     "name": "stdout",
     "output_type": "stream",
     "text": [
      "TSLA => Success\n"
     ]
    },
    {
     "name": "stderr",
     "output_type": "stream",
     "text": [
      "2025-04-06 15:36:31,441 - Updated TSLA for 2020-04-07: Shares = 180,244,858, Status = Success\n"
     ]
    },
    {
     "name": "stdout",
     "output_type": "stream",
     "text": [
      "0000012927\n"
     ]
    },
    {
     "name": "stderr",
     "output_type": "stream",
     "text": [
      "2025-04-06 15:36:32,828 - ====== WebDriver manager ======\n"
     ]
    },
    {
     "name": "stdout",
     "output_type": "stream",
     "text": [
      "https://www.sec.gov/Archives/edgar/data/000012927/000001292719000077/0000012927-19-000077-index.htm\n"
     ]
    },
    {
     "name": "stderr",
     "output_type": "stream",
     "text": [
      "2025-04-06 15:36:34,417 - Get LATEST chromedriver version for google-chrome\n",
      "2025-04-06 15:36:34,682 - Get LATEST chromedriver version for google-chrome\n",
      "2025-04-06 15:36:34,907 - Driver [C:\\Users\\Garvit\\.wdm\\drivers\\chromedriver\\win64\\134.0.6998.165\\chromedriver-win32/chromedriver.exe] found in cache\n"
     ]
    },
    {
     "name": "stdout",
     "output_type": "stream",
     "text": [
      "Outstanding Shares: 562,791,233\n"
     ]
    },
    {
     "name": "stderr",
     "output_type": "stream",
     "text": [
      "2025-04-06 15:37:21,801 - Updated BA for 2020-04-07: Shares = 562,791,233, Status = Success\n"
     ]
    },
    {
     "name": "stdout",
     "output_type": "stream",
     "text": [
      "BA => Success\n"
     ]
    },
    {
     "name": "stderr",
     "output_type": "stream",
     "text": [
      "2025-04-06 15:37:22,435 - Updated BA for 2020-04-07: Shares = 562,791,233, Status = Success\n"
     ]
    },
    {
     "name": "stdout",
     "output_type": "stream",
     "text": [
      "0001000694\n"
     ]
    },
    {
     "name": "stderr",
     "output_type": "stream",
     "text": [
      "2025-04-06 15:37:23,790 - ====== WebDriver manager ======\n"
     ]
    },
    {
     "name": "stdout",
     "output_type": "stream",
     "text": [
      "https://www.sec.gov/Archives/edgar/data/00001000694/000110465919061157/0001104659-19-061157-index.htm\n"
     ]
    },
    {
     "name": "stderr",
     "output_type": "stream",
     "text": [
      "2025-04-06 15:37:25,322 - Get LATEST chromedriver version for google-chrome\n",
      "2025-04-06 15:37:25,788 - Get LATEST chromedriver version for google-chrome\n",
      "2025-04-06 15:37:26,030 - Driver [C:\\Users\\Garvit\\.wdm\\drivers\\chromedriver\\win64\\134.0.6998.165\\chromedriver-win32/chromedriver.exe] found in cache\n"
     ]
    },
    {
     "name": "stdout",
     "output_type": "stream",
     "text": [
      "Outstanding Shares: 26,577,433\n"
     ]
    },
    {
     "name": "stderr",
     "output_type": "stream",
     "text": [
      "2025-04-06 15:38:14,413 - Updated NVAX for 2020-04-08: Shares = 26,577,433, Status = Success\n"
     ]
    },
    {
     "name": "stdout",
     "output_type": "stream",
     "text": [
      "NVAX => Success\n"
     ]
    },
    {
     "name": "stderr",
     "output_type": "stream",
     "text": [
      "2025-04-06 15:38:15,314 - Updated NVAX for 2020-04-08: Shares = 26,577,433, Status = Success\n"
     ]
    },
    {
     "name": "stdout",
     "output_type": "stream",
     "text": [
      "0000884269\n"
     ]
    },
    {
     "name": "stderr",
     "output_type": "stream",
     "text": [
      "2025-04-06 15:38:16,468 - ====== WebDriver manager ======\n"
     ]
    },
    {
     "name": "stdout",
     "output_type": "stream",
     "text": [
      "https://www.sec.gov/Archives/edgar/data/0000884269/000143774919021693/0001437749-19-021693-index.htm\n"
     ]
    },
    {
     "name": "stderr",
     "output_type": "stream",
     "text": [
      "2025-04-06 15:38:18,223 - Get LATEST chromedriver version for google-chrome\n",
      "2025-04-06 15:38:18,464 - Get LATEST chromedriver version for google-chrome\n",
      "2025-04-06 15:38:18,667 - Driver [C:\\Users\\Garvit\\.wdm\\drivers\\chromedriver\\win64\\134.0.6998.165\\chromedriver-win32/chromedriver.exe] found in cache\n"
     ]
    },
    {
     "name": "stdout",
     "output_type": "stream",
     "text": [
      "Outstanding Shares: 13,021,171\n"
     ]
    },
    {
     "name": "stderr",
     "output_type": "stream",
     "text": [
      "2025-04-06 15:39:04,602 - Updated APT for 2020-04-08: Shares = 13,021,171, Status = Success\n"
     ]
    },
    {
     "name": "stdout",
     "output_type": "stream",
     "text": [
      "APT => Success\n"
     ]
    },
    {
     "name": "stderr",
     "output_type": "stream",
     "text": [
      "2025-04-06 15:39:05,212 - Updated APT for 2020-04-08: Shares = 13,021,171, Status = Success\n"
     ]
    },
    {
     "name": "stdout",
     "output_type": "stream",
     "text": [
      "0001659617\n"
     ]
    },
    {
     "name": "stderr",
     "output_type": "stream",
     "text": [
      "2025-04-06 15:39:06,184 - ====== WebDriver manager ======\n"
     ]
    },
    {
     "name": "stdout",
     "output_type": "stream",
     "text": [
      "https://www.sec.gov/Archives/edgar/data/00001659617/000165961719000169/0001659617-19-000169-index.htm\n"
     ]
    },
    {
     "name": "stderr",
     "output_type": "stream",
     "text": [
      "2025-04-06 15:39:08,078 - Get LATEST chromedriver version for google-chrome\n",
      "2025-04-06 15:39:08,387 - Get LATEST chromedriver version for google-chrome\n",
      "2025-04-06 15:39:08,545 - Driver [C:\\Users\\Garvit\\.wdm\\drivers\\chromedriver\\win64\\134.0.6998.165\\chromedriver-win32/chromedriver.exe] found in cache\n"
     ]
    },
    {
     "name": "stdout",
     "output_type": "stream",
     "text": [
      "Outstanding Shares: 45,727,700\n"
     ]
    },
    {
     "name": "stderr",
     "output_type": "stream",
     "text": [
      "2025-04-06 15:39:54,267 - Updated MBRX for 2020-04-08: Shares = 45,727,700, Status = Success\n"
     ]
    },
    {
     "name": "stdout",
     "output_type": "stream",
     "text": [
      "MBRX => Success\n"
     ]
    },
    {
     "name": "stderr",
     "output_type": "stream",
     "text": [
      "2025-04-06 15:39:54,967 - Updated MBRX for 2020-04-08: Shares = 45,727,700, Status = Success\n"
     ]
    },
    {
     "name": "stdout",
     "output_type": "stream",
     "text": [
      "0001659617\n"
     ]
    },
    {
     "name": "stderr",
     "output_type": "stream",
     "text": [
      "2025-04-06 15:39:56,292 - ====== WebDriver manager ======\n"
     ]
    },
    {
     "name": "stdout",
     "output_type": "stream",
     "text": [
      "https://www.sec.gov/Archives/edgar/data/00001659617/000165961719000169/0001659617-19-000169-index.htm\n"
     ]
    },
    {
     "name": "stderr",
     "output_type": "stream",
     "text": [
      "2025-04-06 15:39:57,890 - Get LATEST chromedriver version for google-chrome\n",
      "2025-04-06 15:39:58,109 - Get LATEST chromedriver version for google-chrome\n",
      "2025-04-06 15:39:58,383 - Driver [C:\\Users\\Garvit\\.wdm\\drivers\\chromedriver\\win64\\134.0.6998.165\\chromedriver-win32/chromedriver.exe] found in cache\n"
     ]
    },
    {
     "name": "stdout",
     "output_type": "stream",
     "text": [
      "Outstanding Shares: 45,727,700\n"
     ]
    },
    {
     "name": "stderr",
     "output_type": "stream",
     "text": [
      "2025-04-06 15:40:46,898 - Updated MBRX for 2020-04-09: Shares = 45,727,700, Status = Success\n"
     ]
    },
    {
     "name": "stdout",
     "output_type": "stream",
     "text": [
      "MBRX => Success\n"
     ]
    },
    {
     "name": "stderr",
     "output_type": "stream",
     "text": [
      "2025-04-06 15:40:47,589 - Updated MBRX for 2020-04-09: Shares = 45,727,700, Status = Success\n"
     ]
    },
    {
     "name": "stdout",
     "output_type": "stream",
     "text": [
      "0001437071\n"
     ]
    },
    {
     "name": "stderr",
     "output_type": "stream",
     "text": [
      "2025-04-06 15:40:50,912 - ====== WebDriver manager ======\n"
     ]
    },
    {
     "name": "stdout",
     "output_type": "stream",
     "text": [
      "https://www.sec.gov/Archives/edgar/data/00001437071/000143707119000020/0001437071-19-000020-index.htm\n"
     ]
    },
    {
     "name": "stderr",
     "output_type": "stream",
     "text": [
      "2025-04-06 15:40:52,679 - Get LATEST chromedriver version for google-chrome\n",
      "2025-04-06 15:40:52,935 - Get LATEST chromedriver version for google-chrome\n",
      "2025-04-06 15:40:53,165 - Driver [C:\\Users\\Garvit\\.wdm\\drivers\\chromedriver\\win64\\134.0.6998.165\\chromedriver-win32/chromedriver.exe] found in cache\n"
     ]
    },
    {
     "name": "stdout",
     "output_type": "stream",
     "text": [
      "Outstanding Shares: 142,802,293\n"
     ]
    },
    {
     "name": "stderr",
     "output_type": "stream",
     "text": [
      "2025-04-06 15:41:39,243 - Updated IVR for 2020-04-09: Shares = 142,802,293, Status = Success\n"
     ]
    },
    {
     "name": "stdout",
     "output_type": "stream",
     "text": [
      "IVR => Success\n"
     ]
    },
    {
     "name": "stderr",
     "output_type": "stream",
     "text": [
      "2025-04-06 15:41:39,967 - Updated IVR for 2020-04-09: Shares = 142,802,293, Status = Success\n"
     ]
    },
    {
     "name": "stdout",
     "output_type": "stream",
     "text": [
      "0001723069\n"
     ]
    },
    {
     "name": "stderr",
     "output_type": "stream",
     "text": [
      "2025-04-06 15:41:41,769 - Updated TLSA for 2020-04-09: Shares = None, Status = Filing not found\n"
     ]
    },
    {
     "name": "stdout",
     "output_type": "stream",
     "text": [
      "TLSA => Filing not found\n"
     ]
    },
    {
     "name": "stderr",
     "output_type": "stream",
     "text": [
      "2025-04-06 15:41:42,345 - Updated TLSA for 2020-04-09: Shares = None, Status = Filing not found\n"
     ]
    },
    {
     "name": "stdout",
     "output_type": "stream",
     "text": [
      "0001514281\n"
     ]
    },
    {
     "name": "stderr",
     "output_type": "stream",
     "text": [
      "2025-04-06 15:41:43,406 - ====== WebDriver manager ======\n"
     ]
    },
    {
     "name": "stdout",
     "output_type": "stream",
     "text": [
      "https://www.sec.gov/Archives/edgar/data/00001514281/000151428119000116/0001514281-19-000116-index.htm\n"
     ]
    },
    {
     "name": "stderr",
     "output_type": "stream",
     "text": [
      "2025-04-06 15:41:45,411 - Get LATEST chromedriver version for google-chrome\n",
      "2025-04-06 15:41:45,622 - Get LATEST chromedriver version for google-chrome\n",
      "2025-04-06 15:41:45,820 - Driver [C:\\Users\\Garvit\\.wdm\\drivers\\chromedriver\\win64\\134.0.6998.165\\chromedriver-win32/chromedriver.exe] found in cache\n"
     ]
    },
    {
     "name": "stdout",
     "output_type": "stream",
     "text": [
      "Outstanding Shares: 32,742,255,000\n"
     ]
    },
    {
     "name": "stderr",
     "output_type": "stream",
     "text": [
      "2025-04-06 15:42:32,710 - Updated MITT for 2020-04-09: Shares = 32,742,255,000, Status = Success\n"
     ]
    },
    {
     "name": "stdout",
     "output_type": "stream",
     "text": [
      "MITT => Success\n"
     ]
    },
    {
     "name": "stderr",
     "output_type": "stream",
     "text": [
      "2025-04-06 15:42:33,701 - Updated MITT for 2020-04-09: Shares = 32,742,255,000, Status = Success\n"
     ]
    },
    {
     "name": "stdout",
     "output_type": "stream",
     "text": [
      "0000101829\n"
     ]
    },
    {
     "name": "stderr",
     "output_type": "stream",
     "text": [
      "2025-04-06 15:42:35,325 - ====== WebDriver manager ======\n"
     ]
    },
    {
     "name": "stdout",
     "output_type": "stream",
     "text": [
      "https://www.sec.gov/Archives/edgar/data/0000101829/000010182919000047/0000101829-19-000047-index.htm\n"
     ]
    },
    {
     "name": "stderr",
     "output_type": "stream",
     "text": [
      "2025-04-06 15:42:36,866 - Get LATEST chromedriver version for google-chrome\n",
      "2025-04-06 15:42:37,238 - Get LATEST chromedriver version for google-chrome\n",
      "2025-04-06 15:42:37,435 - Driver [C:\\Users\\Garvit\\.wdm\\drivers\\chromedriver\\win64\\134.0.6998.165\\chromedriver-win32/chromedriver.exe] found in cache\n",
      "2025-04-06 15:43:30,096 - Updated RTX for 2020-04-09: Shares = None, Status = Shares not found\n"
     ]
    },
    {
     "name": "stdout",
     "output_type": "stream",
     "text": [
      "RTX => Shares not found\n"
     ]
    },
    {
     "name": "stderr",
     "output_type": "stream",
     "text": [
      "2025-04-06 15:43:30,699 - Updated RTX for 2020-04-09: Shares = None, Status = Shares not found\n"
     ]
    },
    {
     "name": "stdout",
     "output_type": "stream",
     "text": [
      "0000045012\n"
     ]
    },
    {
     "name": "stderr",
     "output_type": "stream",
     "text": [
      "2025-04-06 15:43:32,667 - ====== WebDriver manager ======\n"
     ]
    },
    {
     "name": "stdout",
     "output_type": "stream",
     "text": [
      "https://www.sec.gov/Archives/edgar/data/000045012/000004501219000152/0000045012-19-000152-index.htm\n"
     ]
    },
    {
     "name": "stderr",
     "output_type": "stream",
     "text": [
      "2025-04-06 15:43:34,917 - Get LATEST chromedriver version for google-chrome\n",
      "2025-04-06 15:43:35,113 - Get LATEST chromedriver version for google-chrome\n",
      "2025-04-06 15:43:35,254 - Driver [C:\\Users\\Garvit\\.wdm\\drivers\\chromedriver\\win64\\134.0.6998.165\\chromedriver-win32/chromedriver.exe] found in cache\n"
     ]
    },
    {
     "name": "stdout",
     "output_type": "stream",
     "text": [
      "Outstanding Shares: 877,804,397\n"
     ]
    },
    {
     "name": "stderr",
     "output_type": "stream",
     "text": [
      "2025-04-06 15:44:21,526 - Updated HAL for 2020-04-09: Shares = 877,804,397, Status = Success\n"
     ]
    },
    {
     "name": "stdout",
     "output_type": "stream",
     "text": [
      "HAL => Success\n"
     ]
    },
    {
     "name": "stderr",
     "output_type": "stream",
     "text": [
      "2025-04-06 15:44:22,342 - Updated HAL for 2020-04-09: Shares = 877,804,397, Status = Success\n",
      "2025-04-06 15:44:23,050 - Updated NRZ for 2020-04-09: Shares = None, Status = CIK not found\n"
     ]
    },
    {
     "name": "stdout",
     "output_type": "stream",
     "text": [
      "NRZ => CIK not found\n"
     ]
    },
    {
     "name": "stderr",
     "output_type": "stream",
     "text": [
      "2025-04-06 15:44:23,746 - Updated NRZ for 2020-04-09: Shares = None, Status = CIK not found\n"
     ]
    },
    {
     "name": "stdout",
     "output_type": "stream",
     "text": [
      "0001776985\n"
     ]
    },
    {
     "name": "stderr",
     "output_type": "stream",
     "text": [
      "2025-04-06 15:44:27,547 - Updated BNTX for 2020-04-09: Shares = None, Status = Filing not found\n"
     ]
    },
    {
     "name": "stdout",
     "output_type": "stream",
     "text": [
      "BNTX => Filing not found\n"
     ]
    },
    {
     "name": "stderr",
     "output_type": "stream",
     "text": [
      "2025-04-06 15:44:28,193 - Updated BNTX for 2020-04-09: Shares = None, Status = Filing not found\n"
     ]
    },
    {
     "name": "stdout",
     "output_type": "stream",
     "text": [
      "0001273685\n"
     ]
    },
    {
     "name": "stderr",
     "output_type": "stream",
     "text": [
      "2025-04-06 15:44:29,424 - ====== WebDriver manager ======\n"
     ]
    },
    {
     "name": "stdout",
     "output_type": "stream",
     "text": [
      "https://www.sec.gov/Archives/edgar/data/00001273685/000127368519000097/0001273685-19-000097-index.htm\n"
     ]
    },
    {
     "name": "stderr",
     "output_type": "stream",
     "text": [
      "2025-04-06 15:44:31,180 - Get LATEST chromedriver version for google-chrome\n",
      "2025-04-06 15:44:31,416 - Get LATEST chromedriver version for google-chrome\n",
      "2025-04-06 15:44:31,827 - Driver [C:\\Users\\Garvit\\.wdm\\drivers\\chromedriver\\win64\\134.0.6998.165\\chromedriver-win32/chromedriver.exe] found in cache\n"
     ]
    },
    {
     "name": "stdout",
     "output_type": "stream",
     "text": [
      "Outstanding Shares: 262,621,039\n"
     ]
    },
    {
     "name": "stderr",
     "output_type": "stream",
     "text": [
      "2025-04-06 15:45:18,892 - Updated NYMT for 2020-04-09: Shares = 262,621,039, Status = Success\n"
     ]
    },
    {
     "name": "stdout",
     "output_type": "stream",
     "text": [
      "NYMT => Success\n"
     ]
    },
    {
     "name": "stderr",
     "output_type": "stream",
     "text": [
      "2025-04-06 15:45:19,911 - Updated NYMT for 2020-04-09: Shares = 262,621,039, Status = Success\n"
     ]
    },
    {
     "name": "stdout",
     "output_type": "stream",
     "text": [
      "0001723690\n"
     ]
    },
    {
     "name": "stderr",
     "output_type": "stream",
     "text": [
      "2025-04-06 15:45:22,103 - Updated BILI for 2020-04-09: Shares = None, Status = Filing not found\n"
     ]
    },
    {
     "name": "stdout",
     "output_type": "stream",
     "text": [
      "BILI => Filing not found\n"
     ]
    },
    {
     "name": "stderr",
     "output_type": "stream",
     "text": [
      "2025-04-06 15:45:22,972 - Updated BILI for 2020-04-09: Shares = None, Status = Filing not found\n"
     ]
    },
    {
     "name": "stdout",
     "output_type": "stream",
     "text": [
      "0000789570\n"
     ]
    },
    {
     "name": "stderr",
     "output_type": "stream",
     "text": [
      "2025-04-06 15:45:24,107 - ====== WebDriver manager ======\n"
     ]
    },
    {
     "name": "stdout",
     "output_type": "stream",
     "text": [
      "https://www.sec.gov/Archives/edgar/data/0000789570/000156459019039971/0001564590-19-039971-index.htm\n"
     ]
    },
    {
     "name": "stderr",
     "output_type": "stream",
     "text": [
      "2025-04-06 15:45:26,120 - Get LATEST chromedriver version for google-chrome\n",
      "2025-04-06 15:45:26,348 - Get LATEST chromedriver version for google-chrome\n",
      "2025-04-06 15:45:26,545 - Driver [C:\\Users\\Garvit\\.wdm\\drivers\\chromedriver\\win64\\134.0.6998.165\\chromedriver-win32/chromedriver.exe] found in cache\n"
     ]
    },
    {
     "name": "stdout",
     "output_type": "stream",
     "text": [
      "Outstanding Shares: 514,984,359\n"
     ]
    },
    {
     "name": "stderr",
     "output_type": "stream",
     "text": [
      "2025-04-06 15:46:13,040 - Updated MGM for 2020-04-09: Shares = 514,984,359, Status = Success\n"
     ]
    },
    {
     "name": "stdout",
     "output_type": "stream",
     "text": [
      "MGM => Success\n"
     ]
    },
    {
     "name": "stderr",
     "output_type": "stream",
     "text": [
      "2025-04-06 15:46:13,626 - Updated MGM for 2020-04-09: Shares = 514,984,359, Status = Success\n"
     ]
    },
    {
     "name": "stdout",
     "output_type": "stream",
     "text": [
      "0000831001\n"
     ]
    },
    {
     "name": "stderr",
     "output_type": "stream",
     "text": [
      "2025-04-06 15:46:16,120 - Updated C for 2020-04-09: Shares = None, Status = Filing not found\n"
     ]
    },
    {
     "name": "stdout",
     "output_type": "stream",
     "text": [
      "C => Filing not found\n"
     ]
    },
    {
     "name": "stderr",
     "output_type": "stream",
     "text": [
      "2025-04-06 15:46:16,807 - Updated C for 2020-04-09: Shares = None, Status = Filing not found\n"
     ]
    },
    {
     "name": "stdout",
     "output_type": "stream",
     "text": [
      "0001174922\n"
     ]
    },
    {
     "name": "stderr",
     "output_type": "stream",
     "text": [
      "2025-04-06 15:46:17,677 - ====== WebDriver manager ======\n"
     ]
    },
    {
     "name": "stdout",
     "output_type": "stream",
     "text": [
      "https://www.sec.gov/Archives/edgar/data/00001174922/000117492219000115/0001174922-19-000115-index.htm\n"
     ]
    },
    {
     "name": "stderr",
     "output_type": "stream",
     "text": [
      "2025-04-06 15:46:19,832 - Get LATEST chromedriver version for google-chrome\n",
      "2025-04-06 15:46:20,104 - Get LATEST chromedriver version for google-chrome\n",
      "2025-04-06 15:46:20,807 - Driver [C:\\Users\\Garvit\\.wdm\\drivers\\chromedriver\\win64\\134.0.6998.165\\chromedriver-win32/chromedriver.exe] found in cache\n"
     ]
    },
    {
     "name": "stdout",
     "output_type": "stream",
     "text": [
      "Outstanding Shares: 107,354,606\n"
     ]
    },
    {
     "name": "stderr",
     "output_type": "stream",
     "text": [
      "2025-04-06 15:47:07,933 - Updated WYNN for 2020-04-09: Shares = 107,354,606, Status = Success\n"
     ]
    },
    {
     "name": "stdout",
     "output_type": "stream",
     "text": [
      "WYNN => Success\n"
     ]
    },
    {
     "name": "stderr",
     "output_type": "stream",
     "text": [
      "2025-04-06 15:47:08,765 - Updated WYNN for 2020-04-09: Shares = 107,354,606, Status = Success\n"
     ]
    },
    {
     "name": "stdout",
     "output_type": "stream",
     "text": [
      "0001513761\n"
     ]
    },
    {
     "name": "stderr",
     "output_type": "stream",
     "text": [
      "2025-04-06 15:47:12,148 - ====== WebDriver manager ======\n"
     ]
    },
    {
     "name": "stdout",
     "output_type": "stream",
     "text": [
      "https://www.sec.gov/Archives/edgar/data/00001513761/000155837019010568/0001558370-19-010568-index.htm\n"
     ]
    },
    {
     "name": "stderr",
     "output_type": "stream",
     "text": [
      "2025-04-06 15:47:14,102 - Get LATEST chromedriver version for google-chrome\n",
      "2025-04-06 15:47:14,681 - Get LATEST chromedriver version for google-chrome\n",
      "2025-04-06 15:47:14,863 - Driver [C:\\Users\\Garvit\\.wdm\\drivers\\chromedriver\\win64\\134.0.6998.165\\chromedriver-win32/chromedriver.exe] found in cache\n"
     ]
    }
   ],
   "source": [
    "import pandas as pd\n",
    "import logging\n",
    "\n",
    "logging.basicConfig(level=logging.INFO, format='%(asctime)s - %(message)s')\n",
    "\n",
    "EXCEL_FILE = r\"C:\\Users\\Garvit\\Downloads\\Mcap.xlsx\" \n",
    "\n",
    "df = pd.read_excel(EXCEL_FILE)\n",
    "df['Date'] = pd.to_datetime(df['Date']).dt.date  \n",
    "if 'Shares Outstanding' not in df.columns:\n",
    "    df['Shares Outstanding'] = 0  \n",
    "\n",
    "for index, row in df.iterrows():\n",
    "    ticker = row['Symbol']\n",
    "    date = row['Date']\n",
    "    date_str = date.strftime('%Y-%m-%d')\n",
    "\n",
    "    current_shares = row['Shares Outstanding']\n",
    "\n",
    "    if current_shares == 0:\n",
    "        ticker, shares, status = process_ticker(ticker, date_str)\n",
    "        print(f\"{ticker} => {status}\")\n",
    "        df.at[index, 'Shares Outstanding'] = shares\n",
    "        logging.info(f\"Updated {ticker} for {date_str}: Shares = {shares}, Status = {status}\")\n",
    "        \n",
    "    else:\n",
    "        print(f\"{ticker} => Skipped (Shares already present: {current_shares})\")\n",
    "        logging.info(f\"Skipped {ticker} for {date_str}: Shares already present = {current_shares}\")\n",
    "\n",
    "    df.to_excel(EXCEL_FILE, index=False)\n",
    "    logging.info(f\"Updated {ticker} for {date_str}: Shares = {shares}, Status = {status}\")\n",
    "\n",
    "logging.info(f\"Done, bro! '{EXCEL_FILE}' has your calculated shares.\")"
   ]
  },
  {
   "cell_type": "code",
   "execution_count": null,
   "id": "0564425e",
   "metadata": {},
   "outputs": [],
   "source": []
  }
 ],
 "metadata": {
  "kernelspec": {
   "display_name": "Python 3 (ipykernel)",
   "language": "python",
   "name": "python3"
  },
  "language_info": {
   "codemirror_mode": {
    "name": "ipython",
    "version": 3
   },
   "file_extension": ".py",
   "mimetype": "text/x-python",
   "name": "python",
   "nbconvert_exporter": "python",
   "pygments_lexer": "ipython3",
   "version": "3.9.12"
  }
 },
 "nbformat": 4,
 "nbformat_minor": 5
}
